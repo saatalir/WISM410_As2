{
 "cells": [
  {
   "cell_type": "code",
   "execution_count": null,
   "metadata": {},
   "outputs": [],
   "source": [
    "# Set Jupyter to render directly to the screen\n",
    "%matplotlib inline\n",
    "\n",
    "# Import pandas and numpy for analysis\n",
    "import pandas as pd\n",
    "import numpy as np"
   ]
  },
  {
   "cell_type": "markdown",
   "metadata": {},
   "source": [
    "# Importing the Black Scholes functions"
   ]
  },
  {
   "cell_type": "code",
   "execution_count": null,
   "metadata": {},
   "outputs": [],
   "source": [
    "from black_scholes import call_value, put_value, call_delta, put_delta, call_vega, put_vega"
   ]
  },
  {
   "cell_type": "code",
   "execution_count": null,
   "metadata": {},
   "outputs": [],
   "source": [
    "help(call_value)"
   ]
  },
  {
   "cell_type": "code",
   "execution_count": null,
   "metadata": {},
   "outputs": [],
   "source": [
    "help(call_delta)"
   ]
  },
  {
   "cell_type": "markdown",
   "metadata": {},
   "source": [
    "# Testing the Black-Scholes function"
   ]
  },
  {
   "cell_type": "code",
   "execution_count": null,
   "metadata": {},
   "outputs": [],
   "source": [
    "# This is an example showing the functionality of the black_scholes module by making a plot\n",
    "# of the option values and greeks for different prices of the underlying stock. You will need \n",
    "# to use the same functions, call_value, put_value, call_delta, etc. with different inputs \n",
    "# for your own trading strategy.\n",
    "\n",
    "K = 100\n",
    "T = 0.4\n",
    "r = 0.0\n",
    "sigma = 0.16\n",
    "\n",
    "stock_values = range(80, 122, 2)\n",
    "\n",
    "call_values = list()\n",
    "put_values = list()\n",
    "call_deltas = list()\n",
    "put_deltas = list()\n",
    "call_vegas = list()\n",
    "put_vegas = list()\n",
    "\n",
    "for stock_value in stock_values:\n",
    "    call_values.append(call_value(stock_value, K, T, r, sigma))\n",
    "    put_values.append(put_value(stock_value, K, T, r, sigma))\n",
    "    call_deltas.append(call_delta(stock_value, K, T, r, sigma))\n",
    "    put_deltas.append(put_delta(stock_value, K, T, r, sigma))\n",
    "    call_vegas.append(call_vega(stock_value, K, T, r, sigma))\n",
    "    put_vegas.append(put_vega(stock_value, K, T, r, sigma))\n",
    "\n",
    "    \n",
    "option_values = pd.DataFrame(data={'Call': call_values, 'Put': put_values}, index=stock_values)\n",
    "option_values.index.name = 'Stock Value'\n",
    "\n",
    "option_deltas = pd.DataFrame(data={'Call': call_deltas, 'Put': put_deltas}, index=stock_values)\n",
    "option_deltas.index.name = 'Stock Value'\n",
    "\n",
    "option_vegas = pd.DataFrame(data={'Call': call_vegas, 'Put': put_vegas}, index=stock_values)\n",
    "option_vegas.index.name = 'Stock Value'\n",
    "\n",
    "option_values.plot(title='Option Value - Strike {}'.format(K))\n",
    "option_deltas.plot(title='Option Delta - Strike {}'.format(K))\n",
    "option_vegas.plot(title='Option Vega - Strike {}'.format(K))"
   ]
  },
  {
   "cell_type": "markdown",
   "metadata": {},
   "source": [
    "# Reading in the CSV file"
   ]
  },
  {
   "cell_type": "code",
   "execution_count": null,
   "metadata": {},
   "outputs": [],
   "source": [
    "def read_data(filename):\n",
    "    '''\n",
    "    This function reads the .csv stored at the 'filename' location and returns three DataFrame's.\n",
    "    \n",
    "    The first DataFrame contains the Stock bid and ask price and volumes. It is indexed by timestamp.\n",
    "    There is one level of column names, which describes whether it is a BidPrice, BidVolume, AskPrice\n",
    "    or AskVolume.\n",
    "    \n",
    "    The second DataFrame contains the Time-to-Expiry of the options in the dataset. It is indexed by\n",
    "    timestamp, and has one level of column names. There is only one column: the time to expiry.\n",
    "  \n",
    "    The third DataFrame contains the Option bid and ask price and volumes for different strikes. It\n",
    "    is indexed by timestamp and has three levels of columns. The first level gives the strike, the second\n",
    "    level gives the option type (C for Call and P for put), the third level gives whether it is a\n",
    "    BidPrice, BidVolume, AskPrice or AskVolume.\n",
    "    '''\n",
    "    df = pd.read_csv(filename, index_col=0)\n",
    "       \n",
    "    time_to_expiry = df.filter(like='TimeToExpiry')\n",
    "    \n",
    "    stock = df.filter(like='Stock')\n",
    "    stock.columns = [stock.columns.str[-5:], stock.columns.str[:-6]]\n",
    "    \n",
    "    options = pd.concat((df.filter(like='-P'), df.filter(like='-C')), axis=1)  \n",
    "    options.columns = [options.columns.str[-3:], options.columns.str[:-4]]\n",
    "\n",
    "    market_data = pd.concat((stock, options), axis=1)\n",
    "    \n",
    "    return time_to_expiry, market_data"
   ]
  },
  {
   "cell_type": "code",
   "execution_count": null,
   "metadata": {
    "scrolled": false
   },
   "outputs": [],
   "source": [
    "# Read the market data\n",
    "\n",
    "filename = 'Options Arbitrage.csv'\n",
    "time_to_expiry, market_data = read_data(filename)"
   ]
  },
  {
   "cell_type": "code",
   "execution_count": null,
   "metadata": {
    "scrolled": false
   },
   "outputs": [],
   "source": [
    "# Get a list of all instrument names including the stock, and of the options only\n",
    "instrument_names = list(market_data.columns.get_level_values(0).unique())\n",
    "print(instrument_names)\n",
    "\n",
    "option_names = instrument_names[1:]\n",
    "print(option_names)"
   ]
  },
  {
   "cell_type": "markdown",
   "metadata": {},
   "source": [
    "# Some Examples"
   ]
  },
  {
   "cell_type": "code",
   "execution_count": null,
   "metadata": {},
   "outputs": [],
   "source": [
    "# What is in the market_data dataframe? \n",
    "market_data.head()"
   ]
  },
  {
   "cell_type": "code",
   "execution_count": null,
   "metadata": {},
   "outputs": [],
   "source": [
    "# What is in the time to expirty dataframe?\n",
    "time_to_expiry.head()"
   ]
  },
  {
   "cell_type": "code",
   "execution_count": null,
   "metadata": {},
   "outputs": [],
   "source": [
    "# Plot bids and asks for the stock\n",
    "market_data['Stock', 'BidPrice'].head(300).plot(figsize=(20, 3))\n",
    "market_data['Stock', 'AskPrice'].head(300).plot(figsize=(20, 3))"
   ]
  },
  {
   "cell_type": "code",
   "execution_count": null,
   "metadata": {},
   "outputs": [],
   "source": [
    "# Plot bids and asks for two of the options\n",
    "print(option_names[1], option_names[4])\n",
    "\n",
    "market_data[option_names[1], 'BidPrice'].head(300).plot(figsize=(20, 3))\n",
    "market_data[option_names[1], 'AskPrice'].head(300).plot(figsize=(20, 3))\n",
    "market_data[option_names[4], 'BidPrice'].head(300).plot(figsize=(20, 3))\n",
    "market_data[option_names[4], 'AskPrice'].head(300).plot(figsize=(20, 3))"
   ]
  },
  {
   "cell_type": "markdown",
   "metadata": {},
   "source": [
    "# Exercise"
   ]
  },
  {
   "cell_type": "code",
   "execution_count": null,
   "metadata": {},
   "outputs": [],
   "source": [
    "# Now it's your turn. Start by calculating your own theoretical values and deltas for the options. Visualize \n",
    "# these alongside the market data, is it clear when you would want to do a trade? Enter positions when that \n",
    "# is the case, and manage your delta-risk by hedging away your delta position in the underlying stock."
   ]
  },
  {
   "cell_type": "code",
   "execution_count": null,
   "metadata": {},
   "outputs": [],
   "source": []
  }
 ],
 "metadata": {
  "kernelspec": {
   "display_name": "Python 3.6",
   "language": "python",
   "name": "python3.6"
  },
  "language_info": {
   "codemirror_mode": {
    "name": "ipython",
    "version": 3
   },
   "file_extension": ".py",
   "mimetype": "text/x-python",
   "name": "python",
   "nbconvert_exporter": "python",
   "pygments_lexer": "ipython3",
   "version": "3.6.5"
  }
 },
 "nbformat": 4,
 "nbformat_minor": 2
}
